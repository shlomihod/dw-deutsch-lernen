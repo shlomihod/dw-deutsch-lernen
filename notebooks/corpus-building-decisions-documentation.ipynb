{
 "cells": [
  {
   "cell_type": "markdown",
   "metadata": {},
   "source": [
    "# Corpus Building Decisions Documentation\n",
    "\n",
    "## Dilemmas:\n",
    "1. Maybe paragraph corpus, and not text (because the B1 articles have more than one, while B2-C1 articles have only one)\n",
    "2. Using regular news articles?"
   ]
  },
  {
   "cell_type": "code",
   "execution_count": 1,
   "metadata": {},
   "outputs": [],
   "source": [
    "%load_ext autoreload\n",
    "%autoreload 2"
   ]
  },
  {
   "cell_type": "code",
   "execution_count": 2,
   "metadata": {},
   "outputs": [],
   "source": [
    "import os\n",
    "os.chdir('..')\n",
    "\n",
    "from IPython.display import IFrame\n",
    "\n",
    "import dwscraper"
   ]
  },
  {
   "cell_type": "code",
   "execution_count": 3,
   "metadata": {},
   "outputs": [],
   "source": [
    "dwscraper.consts.LEVELS = [\"A1\", \"A2\", \"B1\", \"B2\", \"C1\", \"C2\"]"
   ]
  },
  {
   "cell_type": "code",
   "execution_count": 4,
   "metadata": {
    "scrolled": true
   },
   "outputs": [],
   "source": [
    "page_df = dwscraper.build_page_df(300 , to_filter=False)"
   ]
  },
  {
   "cell_type": "markdown",
   "metadata": {},
   "source": [
    "## URL type (`av` - Video without text)"
   ]
  },
  {
   "cell_type": "code",
   "execution_count": 5,
   "metadata": {},
   "outputs": [],
   "source": [
    "url_types = page_df[\"url\"].apply(lambda s: s.split(\"/\")[-1].split(\"-\")[0])"
   ]
  },
  {
   "cell_type": "code",
   "execution_count": 6,
   "metadata": {},
   "outputs": [
    {
     "data": {
      "text/plain": [
       "a     266\n",
       "av     21\n",
       "l      13\n",
       "Name: url, dtype: int64"
      ]
     },
     "execution_count": 6,
     "metadata": {},
     "output_type": "execute_result"
    }
   ],
   "source": [
    "url_types.value_counts()"
   ]
  },
  {
   "cell_type": "code",
   "execution_count": 7,
   "metadata": {},
   "outputs": [
    {
     "data": {
      "text/plain": [
       "Top-Thema             6\n",
       "Video-Thema           4\n",
       "Wort der Woche        4\n",
       "Sprachbar             3\n",
       "Alltagsdeutsch        2\n",
       "Top-Thema – Audios    2\n",
       "Name: artikel, dtype: int64"
      ]
     },
     "execution_count": 7,
     "metadata": {},
     "output_type": "execute_result"
    }
   ],
   "source": [
    "page_df[url_types == \"av\"][\"artikel\"].value_counts()"
   ]
  },
  {
   "cell_type": "code",
   "execution_count": 8,
   "metadata": {},
   "outputs": [],
   "source": [
    "page_df = page_df[url_types != \"av\"]"
   ]
  },
  {
   "cell_type": "markdown",
   "metadata": {},
   "source": [
    "## Levels vs. Type of Article (`artikel`)"
   ]
  },
  {
   "cell_type": "code",
   "execution_count": 9,
   "metadata": {},
   "outputs": [
    {
     "data": {
      "text/plain": [
       "artikel                          levels  \n",
       "Top-Thema – Lektionen            (B1,)        8\n",
       "Alltagsdeutsch – Podcast         (C1,)       13\n",
       "Wort der Woche                   (B2, C1)    14\n",
       "                                 (B2,)       19\n",
       "Video-Thema – Podcast ohne UT    (B2, C1)    30\n",
       "Nachrichten                      (B2, C1)    38\n",
       "Sprachbar                        (C1,)       38\n",
       "Langsam gesprochene Nachrichten  (B2, C1)    46\n",
       "Top-Thema – Podcast              (B1,)       53\n",
       "dtype: int64"
      ]
     },
     "execution_count": 9,
     "metadata": {},
     "output_type": "execute_result"
    }
   ],
   "source": [
    "leveled_artikel_count = page_df.groupby([\"artikel\", \"levels\"]).size()\n",
    "leveled_artikel_count[leveled_artikel_count>5].dropna(how=\"all\").fillna(0).sort_values()"
   ]
  },
  {
   "cell_type": "markdown",
   "metadata": {},
   "source": [
    "### TAKEN TO CORPUS"
   ]
  },
  {
   "cell_type": "markdown",
   "metadata": {},
   "source": [
    "#### Top-Thema – Podcast - B1 [One Text]\n"
   ]
  },
  {
   "cell_type": "code",
   "execution_count": 10,
   "metadata": {
    "scrolled": true
   },
   "outputs": [
    {
     "name": "stdout",
     "output_type": "stream",
     "text": [
      "/de/hitlers-mein-kampf-erscheint-wieder/a-18952131\n"
     ]
    },
    {
     "data": {
      "text/html": [
       "\n",
       "        <iframe\n",
       "            width=\"1000\"\n",
       "            height=\"500\"\n",
       "            src=\"http://dw.com/de/hitlers-mein-kampf-erscheint-wieder/a-18952131\"\n",
       "            frameborder=\"0\"\n",
       "            allowfullscreen\n",
       "        ></iframe>\n",
       "        "
      ],
      "text/plain": [
       "<IPython.lib.display.IFrame at 0x10e13b0b8>"
      ]
     },
     "execution_count": 10,
     "metadata": {},
     "output_type": "execute_result"
    }
   ],
   "source": [
    "page = page_df[page_df[\"artikel\"] == \"Top-Thema – Podcast\"].iloc[0]\n",
    "print(page[\"url\"])\n",
    "#print(page[\"content\"])\n",
    "IFrame(\"http://dw.com\" \n",
    "       + page[\"url\"],\n",
    "       width=1000, height=500)"
   ]
  },
  {
   "cell_type": "markdown",
   "metadata": {},
   "source": [
    "#### Nachrichten - B2 & C1 - [Multiple Texts]"
   ]
  },
  {
   "cell_type": "code",
   "execution_count": 11,
   "metadata": {
    "scrolled": true
   },
   "outputs": [
    {
     "data": {
      "text/html": [
       "\n",
       "        <iframe\n",
       "            width=\"1000\"\n",
       "            height=\"500\"\n",
       "            src=\"http://dw.com/de/06052014-langsam-gesprochene-nachrichten/a-17614572\"\n",
       "            frameborder=\"0\"\n",
       "            allowfullscreen\n",
       "        ></iframe>\n",
       "        "
      ],
      "text/plain": [
       "<IPython.lib.display.IFrame at 0x116c6d080>"
      ]
     },
     "execution_count": 11,
     "metadata": {},
     "output_type": "execute_result"
    }
   ],
   "source": [
    "page = page_df[page_df[\"artikel\"] == \"Nachrichten\"].iloc[0]\n",
    "#print(page[\"content\"])\n",
    "IFrame(\"http://dw.com\" \n",
    "       + page[\"url\"],\n",
    "       width=1000, height=500)"
   ]
  },
  {
   "cell_type": "markdown",
   "metadata": {},
   "source": [
    "#### Langsam gesprochene Nachrichten - B2 & C1 [Multiple Texts]"
   ]
  },
  {
   "cell_type": "code",
   "execution_count": 12,
   "metadata": {
    "scrolled": true
   },
   "outputs": [
    {
     "data": {
      "text/html": [
       "\n",
       "        <iframe\n",
       "            width=\"1000\"\n",
       "            height=\"500\"\n",
       "            src=\"http://dw.com/de/27122017-langsam-gesprochene-nachrichten/a-41941193\"\n",
       "            frameborder=\"0\"\n",
       "            allowfullscreen\n",
       "        ></iframe>\n",
       "        "
      ],
      "text/plain": [
       "<IPython.lib.display.IFrame at 0x10fef53c8>"
      ]
     },
     "execution_count": 12,
     "metadata": {},
     "output_type": "execute_result"
    }
   ],
   "source": [
    "page = page_df[page_df[\"artikel\"] == \"Langsam gesprochene Nachrichten\"].iloc[0]\n",
    "#print(page[\"content\"])\n",
    "IFrame(\"http://dw.com\" \n",
    "       + page[\"url\"],\n",
    "       width=1000, height=500)"
   ]
  },
  {
   "cell_type": "markdown",
   "metadata": {},
   "source": [
    "#### Top-Thema – Lektionen - B1 [One Text]"
   ]
  },
  {
   "cell_type": "code",
   "execution_count": 13,
   "metadata": {
    "scrolled": true
   },
   "outputs": [
    {
     "data": {
      "text/html": [
       "\n",
       "        <iframe\n",
       "            width=\"1000\"\n",
       "            height=\"500\"\n",
       "            src=\"http://dw.com/de/zeitumstellung-bald-vergangenheit/l-46089162\"\n",
       "            frameborder=\"0\"\n",
       "            allowfullscreen\n",
       "        ></iframe>\n",
       "        "
      ],
      "text/plain": [
       "<IPython.lib.display.IFrame at 0x11d5df128>"
      ]
     },
     "execution_count": 13,
     "metadata": {},
     "output_type": "execute_result"
    }
   ],
   "source": [
    "page = page_df[page_df[\"artikel\"] == \"Top-Thema – Lektionen\"].iloc[0]\n",
    "#print(page[\"content\"])\n",
    "IFrame(\"http://dw.com\" \n",
    "       + page[\"url\"],\n",
    "       width=1000, height=500)"
   ]
  },
  {
   "cell_type": "markdown",
   "metadata": {},
   "source": [
    "### NOT TAKEN TO CORPUS"
   ]
  },
  {
   "cell_type": "markdown",
   "metadata": {},
   "source": [
    "#### Video-Thema – Lektionen - B2 & C1 [Dialogue]"
   ]
  },
  {
   "cell_type": "code",
   "execution_count": 14,
   "metadata": {
    "scrolled": true
   },
   "outputs": [
    {
     "data": {
      "text/html": [
       "\n",
       "        <iframe\n",
       "            width=\"1000\"\n",
       "            height=\"500\"\n",
       "            src=\"http://dw.com/de/der-kampf-gegen-einen-energiekonzern/l-39558358\"\n",
       "            frameborder=\"0\"\n",
       "            allowfullscreen\n",
       "        ></iframe>\n",
       "        "
      ],
      "text/plain": [
       "<IPython.lib.display.IFrame at 0x1350c7a58>"
      ]
     },
     "execution_count": 14,
     "metadata": {},
     "output_type": "execute_result"
    }
   ],
   "source": [
    "page = page_df[page_df[\"artikel\"] == \"Video-Thema – Lektionen\"].iloc[0]\n",
    "#print(page[\"content\"])\n",
    "IFrame(\"http://dw.com\" \n",
    "       + page[\"url\"],\n",
    "       width=1000, height=500)"
   ]
  },
  {
   "cell_type": "markdown",
   "metadata": {},
   "source": [
    "#### Sprachbar - C1 & C2 [Not a news article]"
   ]
  },
  {
   "cell_type": "code",
   "execution_count": 15,
   "metadata": {
    "scrolled": true
   },
   "outputs": [
    {
     "data": {
      "text/html": [
       "\n",
       "        <iframe\n",
       "            width=\"1000\"\n",
       "            height=\"500\"\n",
       "            src=\"http://dw.com/de/bäumchen-wechsle-dich/a-5174039\"\n",
       "            frameborder=\"0\"\n",
       "            allowfullscreen\n",
       "        ></iframe>\n",
       "        "
      ],
      "text/plain": [
       "<IPython.lib.display.IFrame at 0x11d2a2978>"
      ]
     },
     "execution_count": 15,
     "metadata": {},
     "output_type": "execute_result"
    }
   ],
   "source": [
    "page = page_df[page_df[\"artikel\"] == \"Sprachbar\"].iloc[0]\n",
    "#print(page[\"content\"])\n",
    "IFrame(\"http://dw.com\" \n",
    "       + page[\"url\"],\n",
    "       width=1000, height=500)"
   ]
  },
  {
   "cell_type": "markdown",
   "metadata": {},
   "source": [
    "#### Alltagsdeutsch – Podcast - C1 & C2 [Dialogue / No Text at all]"
   ]
  },
  {
   "cell_type": "code",
   "execution_count": 16,
   "metadata": {
    "scrolled": true
   },
   "outputs": [
    {
     "data": {
      "text/html": [
       "\n",
       "        <iframe\n",
       "            width=\"1000\"\n",
       "            height=\"500\"\n",
       "            src=\"http://dw.com/de/wortspiele/a-1606659\"\n",
       "            frameborder=\"0\"\n",
       "            allowfullscreen\n",
       "        ></iframe>\n",
       "        "
      ],
      "text/plain": [
       "<IPython.lib.display.IFrame at 0x1369cd3c8>"
      ]
     },
     "execution_count": 16,
     "metadata": {},
     "output_type": "execute_result"
    }
   ],
   "source": [
    "page = page_df[page_df[\"artikel\"] == \"Alltagsdeutsch – Podcast\"].iloc[0]\n",
    "#print(page[\"content\"])\n",
    "IFrame(\"http://dw.com\" \n",
    "       + page[\"url\"],\n",
    "       width=1000, height=500)"
   ]
  },
  {
   "cell_type": "markdown",
   "metadata": {},
   "source": [
    "#### Video-Thema – Podcast ohne UT - B2 & C1"
   ]
  },
  {
   "cell_type": "code",
   "execution_count": 17,
   "metadata": {
    "scrolled": true
   },
   "outputs": [
    {
     "data": {
      "text/html": [
       "\n",
       "        <iframe\n",
       "            width=\"1000\"\n",
       "            height=\"500\"\n",
       "            src=\"http://dw.com/de/panini-bilder-zur-frauenfußball-wm/a-15253595\"\n",
       "            frameborder=\"0\"\n",
       "            allowfullscreen\n",
       "        ></iframe>\n",
       "        "
      ],
      "text/plain": [
       "<IPython.lib.display.IFrame at 0x11ea214e0>"
      ]
     },
     "execution_count": 17,
     "metadata": {},
     "output_type": "execute_result"
    }
   ],
   "source": [
    "page = page_df[page_df[\"artikel\"] == \"Video-Thema – Podcast ohne UT\"].iloc[0]\n",
    "#print(page[\"content\"])\n",
    "IFrame(\"http://dw.com\" \n",
    "       + page[\"url\"],\n",
    "       width=1000, height=500)"
   ]
  },
  {
   "cell_type": "markdown",
   "metadata": {},
   "source": [
    "#### Wort der Woche  - B2, B2 & C1 [not new article]"
   ]
  },
  {
   "cell_type": "code",
   "execution_count": 18,
   "metadata": {
    "scrolled": true
   },
   "outputs": [
    {
     "data": {
      "text/html": [
       "\n",
       "        <iframe\n",
       "            width=\"1000\"\n",
       "            height=\"500\"\n",
       "            src=\"http://dw.com/de/der-muntermacher/a-38430100\"\n",
       "            frameborder=\"0\"\n",
       "            allowfullscreen\n",
       "        ></iframe>\n",
       "        "
      ],
      "text/plain": [
       "<IPython.lib.display.IFrame at 0x11d57b080>"
      ]
     },
     "execution_count": 18,
     "metadata": {},
     "output_type": "execute_result"
    }
   ],
   "source": [
    "page = page_df[page_df[\"artikel\"] == \"Wort der Woche\"].iloc[0]\n",
    "#print(page[\"content\"])\n",
    "IFrame(\"http://dw.com\" \n",
    "       + page[\"url\"],\n",
    "       width=1000, height=500)"
   ]
  }
 ],
 "metadata": {
  "kernelspec": {
   "display_name": "Python 3",
   "language": "python",
   "name": "python3"
  },
  "language_info": {
   "codemirror_mode": {
    "name": "ipython",
    "version": 3
   },
   "file_extension": ".py",
   "mimetype": "text/x-python",
   "name": "python",
   "nbconvert_exporter": "python",
   "pygments_lexer": "ipython3",
   "version": "3.6.7"
  }
 },
 "nbformat": 4,
 "nbformat_minor": 2
}
